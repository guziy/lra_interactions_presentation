{
 "metadata": {
  "name": ""
 },
 "nbformat": 3,
 "nbformat_minor": 0,
 "worksheets": [
  {
   "cells": [
    {
     "cell_type": "markdown",
     "metadata": {
      "slideshow": {
       "slide_type": "slide"
      }
     },
     "source": [
      "Lake-river-atmosphere interactions as simulated by the CRCM5 over north-east Canada\n",
      "=====\n",
      "\n",
      "\n",
      "<span id=\"authors\">Oleksandr (Sasha) Huziy, Laxmi Sushama, Ren\u00e9 Laprise</span>\n",
      "\n",
      "<table class=\"logo\">\n",
      "<tr>\n",
      "<td>\n",
      "<img src=\"files/images/Escer2.jpg\"/> \n",
      "</td>\n",
      "\n",
      "<td>\n",
      "<img src=\"files/images/logo_uqam_0.png\"/> \n",
      "</td>\n",
      "</tr>\n",
      "</table>"
     ]
    },
    {
     "cell_type": "markdown",
     "metadata": {
      "slideshow": {
       "slide_type": "slide"
      }
     },
     "source": [
      "Outline\n",
      "=====\n",
      "\n",
      "* **Motivation**\n",
      "    \n",
      "    * A good streamflow model is needed to perform high quality climate change impact studies.\n",
      "    \n",
      "    * Streamflow and lake levels are diagnostics which can be readily compared to observed characteristics\n",
      "    \n",
      "* **Experiments and methodology**\n",
      "    \n",
      "    * River and lake routing concepts\n",
      "    \n",
      "    * Performed experiments\n",
      "\n",
      "* **Lake-atmosphere interactions**\n",
      "    \n",
      "    * Temperature, precipitation and heat fluxes\n",
      "    \n",
      "* **Lake-river routing**\n",
      "    \n",
      "    * Simulated streamflows: impact of lake routing \n",
      "    \n",
      "    * Simulated lake levels: influence of rivers\n",
      "    \n",
      "* **Interflow**\n",
      "    \n",
      "    * Impact on simulated streamflow and surface fields\n",
      "    \n",
      "\n",
      "    \n",
      "\n"
     ]
    },
    {
     "cell_type": "markdown",
     "metadata": {
      "slideshow": {
       "slide_type": "slide"
      }
     },
     "source": [
      "Motivation\n",
      "===\n",
      "\n",
      "* The importance of lakes for regioanl climate simulations was studied by:\n",
      "    \n",
      "    * Samuelsson et al (2010) - **Europe** \n",
      "    \n",
      "    * Martynov et al (2012) - **North America**\n",
      "\n",
      "* The importance of lakes in river models was emphasized in:\n",
      "    \n",
      "    * Bowling et al () \n",
      "    \n",
      "    * D\u00f6ll et al \n",
      "\n"
     ]
    },
    {
     "cell_type": "code",
     "collapsed": false,
     "input": [],
     "language": "python",
     "metadata": {
      "slideshow": {
       "slide_type": "slide"
      }
     },
     "outputs": []
    }
   ],
   "metadata": {}
  }
 ]
}