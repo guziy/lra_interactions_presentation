{
 "metadata": {
  "name": ""
 },
 "nbformat": 3,
 "nbformat_minor": 0,
 "worksheets": [
  {
   "cells": [
    {
     "cell_type": "markdown",
     "metadata": {
      "slideshow": {
       "slide_type": "slide"
      }
     },
     "source": [
      "Lake-river-atmosphere interactions as simulated by the CRCM5 over north-east Canada\n",
      "=====\n",
      "\n",
      "\n",
      "<span id=\"authors\">Oleksandr (Sasha) Huziy, Laxmi Sushama, Ren\u00e9 Laprise</span>\n",
      "\n",
      "<table class=\"logo\">\n",
      "<tr>\n",
      "<td>\n",
      "<img src=\"files/images/Escer2.jpg\"/> \n",
      "</td>\n",
      "\n",
      "<td>\n",
      "<img src=\"files/images/logo_uqam_0.png\"/> \n",
      "</td>\n",
      "</tr>\n",
      "</table>"
     ]
    },
    {
     "cell_type": "markdown",
     "metadata": {
      "slideshow": {
       "slide_type": "slide"
      }
     },
     "source": [
      "Outline\n",
      "=====\n",
      "\n",
      "* **Motivation**\n",
      "    \n",
      "    * Study influence of lakes on regional climate\n",
      "    \n",
      "    * Improve model realism and quality\n",
      "     \n",
      "* **Experiments and methodology**\n",
      "    \n",
      "    * River and lake routing concepts\n",
      "    \n",
      "    * Performed experiments\n",
      "\n",
      "* **Lake-atmosphere interactions**\n",
      "    \n",
      "    * Temperature, precipitation and heat fluxes\n",
      "    \n",
      "* **Lake-river routing**\n",
      "    \n",
      "    * Simulated streamflows: impact of lake routing \n",
      "    \n",
      "    * Simulated lake levels: influence of rivers\n",
      "    \n",
      "* **Interflow**\n",
      "    \n",
      "    * Impact on simulated streamflow and surface fields\n",
      "    \n",
      "\n",
      "    \n",
      "\n"
     ]
    },
    {
     "cell_type": "markdown",
     "metadata": {
      "slideshow": {
       "slide_type": "slide"
      }
     },
     "source": [
      "Related studies\n",
      "===\n",
      "\n",
      "* The importance of lakes for regioanl climate simulations was studied by:\n",
      "    \n",
      "    * Samuelsson et al (2010) - **Europe** ($0.4^{\\circ} \\approx 40\\: {\\rm km}$ )\n",
      "    \n",
      "    * Martynov et al (2012) - **North America** ($0.5^{\\circ}$)\n",
      "    \n",
      "    * Notaro et al (2013) - **Great Lakes** ($10\\: {\\rm km}$)\n",
      "\n",
      "* The importance of lakes in river models was emphasized in:\n",
      "    \n",
      "    * Bowling and Letteamaier (2009) - **VIC model**\n",
      "    \n",
      "    * D\u00f6ll et al (2003) - **WGHM model**\n",
      "\n"
     ]
    },
    {
     "cell_type": "markdown",
     "metadata": {
      "slideshow": {
       "slide_type": "slide"
      }
     },
     "source": [
      "Bowling et al (2009): some results\n",
      "=====\n",
      "\n",
      "<div style=\"width:100%;text-align:center;\">\n",
      "$$\n",
      "NS=1-\\frac\n",
      "{\\sum_{t=1}^T\\left(Q_o^t-Q_m^t\\right)^2}\n",
      "{\\sum_{t=1}^T\\left(Q_o^t-\\overline{Q_o}\\right)^2}\n",
      "$$\n",
      "</div>\n",
      "\n",
      "<table>\n",
      "<tr>\n",
      "<th>River</th> <th>Simulated with lakes and wetlands</th> <th>Simulated without lakes and wetlands</th>\n",
      "</tr>\n",
      "\n",
      "<tr>\n",
      "<td>Putuligayuk</td> <td style=\"text-align:center;background-color:lightgreen;\">**0.8**</td> \n",
      "<td style=\"text-align:center;background-color:lightcoral;\">0.51</td>\n",
      "</tr>\n",
      "\n",
      "<tr>\n",
      "<td>Kuparuk</td> <td style=\"text-align:center;background-color:lightgreen;\">**0.5**</td> \n",
      "<td style=\"text-align:center;background-color:lightcoral;\">0.02</td>\n",
      "</tr>\n",
      "</table>\n",
      "\n",
      "* Monthly NS values for simulated streamflow between May and August 1999 through 2001 (taken from Bowling et al 2009)"
     ]
    },
    {
     "cell_type": "markdown",
     "metadata": {
      "slideshow": {
       "slide_type": "slide"
      }
     },
     "source": [
      "Methodology: River routing \n",
      "====\n",
      "\n",
      "<br/>\n",
      "<br/>\n",
      "<div style=\"font-size:250%;text-align:center\">\n",
      "$$\n",
      "d_t S = R + U + GW - Q(S)\n",
      "$$\n",
      "</div>"
     ]
    },
    {
     "cell_type": "markdown",
     "metadata": {
      "slideshow": {
       "slide_type": "slide"
      }
     },
     "source": [
      "Methodology: Lake routing\n",
      "=====\n",
      "\n",
      "<table class=\"noborder\" width=\"1000px\">\n",
      "<tr>\n",
      "<td>\n",
      "<img src=\"files/images/global_and_local_lakes_diagram.jpg\" width=\"600px\"/> \n",
      "</td>\n",
      "\n",
      "<td valign=\"top\" width=\"60%\">\n",
      "<ul>\n",
      "<li>\n",
      "Rivers can flow into global lakes whereas local lakes get inflow only from runoff and ground water outflow generated in the same grid-cell.\n",
      "<br/>\n",
      "</li>\n",
      "\n",
      "<li>\n",
      "Each global lake is modelled as a whole by the river-lake routing scheme. \n",
      "<br/>\n",
      "</li>\n",
      "\n",
      "</ul>\n",
      "</td>\n",
      "\n",
      "</tr>\n",
      "</table>"
     ]
    },
    {
     "cell_type": "markdown",
     "metadata": {
      "slideshow": {
       "slide_type": "slide"
      }
     },
     "source": [
      "Model configuration and domain of interest\n",
      "=====\n",
      "\n",
      "**Horizontal grid:** $260\\times260$, $dx = 0.1^{\\circ}$; **Time step:** 5 min; <nobr>**Period:** 1980-2010</nobr>\n",
      "<table class=\"noborder\">\n",
      "<tr>\n",
      "<td width=\"50%\">\n",
      "    <img src=\"files/images/domain.jpg\">\n",
      "</td>\n",
      "\n",
      "<td valign=\"top\">\n",
      "**Surface scheme:** CLASS3.5; \n",
      "\n",
      "**Lake model:** Hostetler; \n",
      "\n",
      "**River model:** WATROUTE-modified; \n",
      "\n",
      "**Atmospheric driving data:** ERA-Interim, $1.5^{\\circ}$\n",
      "</td>\n",
      "</tr>\n",
      "</table>\n"
     ]
    },
    {
     "cell_type": "markdown",
     "metadata": {
      "slideshow": {
       "slide_type": "slide"
      }
     },
     "source": [
      "Lake fractions as seen by CRCM5\n",
      "======\n",
      "<img src=\"files/images/lake_fractions_220x220_0.1deg.jpeg\"/>"
     ]
    },
    {
     "cell_type": "markdown",
     "metadata": {
      "slideshow": {
       "slide_type": "slide"
      }
     },
     "source": [
      "Lake-atmosphere interactions\n",
      "======\n",
      "\n",
      "* Comparing the following configurations:\n",
      "\n",
      "    * Simulation with lakes (**CRCM5-HCD-R**) \n",
      "\n",
      "    * Lakes replaced with land (**CRCM5-R**)\n",
      "\n"
     ]
    },
    {
     "cell_type": "markdown",
     "metadata": {
      "slideshow": {
       "slide_type": "slide"
      }
     },
     "source": [
      "Lake-atmosphere interactions: <nobr>2m air temperature ${\\rm ^{\\circ}C}$</nobr>\n",
      "======\n",
      "\n",
      "<img src=\"files/images/seasonal_mean_maps/CRCM5-HCD-R_vs_CRCM5-R_for_Winter-Spring-Summer-Fall/TT_CRCM5-HCD-R_CRCM5-R.jpeg\">\n",
      "\n",
      "**No summer cooling visible in seasonal means**"
     ]
    },
    {
     "cell_type": "markdown",
     "metadata": {
      "slideshow": {
       "slide_type": "slide"
      }
     },
     "source": [
      "Lake-atmosphere interactions: <nobr>2m air temperature ${\\rm ^{\\circ}C}$ monthly means</nobr>\n",
      "======\n",
      "\n",
      "<img src=\"files/images/seasonal_mean_maps/CRCM5-HCD-R_vs_CRCM5-R_for_May-June-July-August/TT_CRCM5-HCD-R_CRCM5-R.jpeg\">"
     ]
    },
    {
     "cell_type": "markdown",
     "metadata": {
      "slideshow": {
       "slide_type": "slide"
      }
     },
     "source": [
      "Lake-atmosphere interactions: <nobr>Total precipitation ${\\rm mm/day}$ </nobr>\n",
      "======\n",
      "<img src=\"files/images/seasonal_mean_maps/CRCM5-HCD-R_vs_CRCM5-R_for_Winter-Spring-Summer-Fall/PR_CRCM5-HCD-R_CRCM5-R.jpeg\">\n"
     ]
    },
    {
     "cell_type": "markdown",
     "metadata": {
      "slideshow": {
       "slide_type": "slide"
      }
     },
     "source": [
      "Lake-atmosphere interactions: <nobr>Streamflow ${\\rm m^3/s}$ </nobr>\n",
      "======\n",
      "<img src=\"files/images/seasonal_mean_maps/CRCM5-HCD-R_vs_CRCM5-R_for_Winter-Spring-Summer-Fall/STFA_CRCM5-HCD-R_CRCM5-R.jpeg\"/>\n"
     ]
    },
    {
     "cell_type": "markdown",
     "metadata": {
      "slideshow": {
       "slide_type": "slide"
      }
     },
     "source": [
      "Lake-river routing\n",
      "======\n",
      "\n",
      "* Comparing configurations:\n",
      "    \n",
      "    * **CRCM5-HCD-R:** only river routing\n",
      "    \n",
      "    * **CRCM5-HCD-RL:** river and lake routing"
     ]
    },
    {
     "cell_type": "markdown",
     "metadata": {
      "slideshow": {
       "slide_type": "slide"
      }
     },
     "source": [
      "Lake-river routing results: <nobr>Seasonal streamflow $\\left({\\rm m^3/s}\\right)$</nobr>\n",
      "===========================\n",
      "<img src=\"files/images/seasonal_mean_maps/CRCM5-HCD-RL_vs_CRCM5-HCD-R_for_Winter-Spring-Summer-Fall/STFA_CRCM5-HCD-RL_CRCM5-HCD-R.jpeg\"/>"
     ]
    },
    {
     "cell_type": "markdown",
     "metadata": {
      "slideshow": {
       "slide_type": "slide"
      }
     },
     "source": [
      "Streamflow validation: Station positions\n",
      "======\n",
      "<div style=\"text-align:center\">\n",
      "<img src=\"files/images/station_positions_stfl_CEHQ.jpeg\" style=\"height:500px;\" />\n",
      "</div>"
     ]
    },
    {
     "cell_type": "markdown",
     "metadata": {
      "slideshow": {
       "slide_type": "slide"
      }
     },
     "source": []
    },
    {
     "cell_type": "markdown",
     "metadata": {
      "slideshow": {
       "slide_type": "slide"
      }
     },
     "source": []
    }
   ],
   "metadata": {}
  }
 ]
}