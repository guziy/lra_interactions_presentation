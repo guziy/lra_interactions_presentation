{
 "metadata": {
  "name": ""
 },
 "nbformat": 3,
 "nbformat_minor": 0,
 "worksheets": [
  {
   "cells": [
    {
     "cell_type": "markdown",
     "metadata": {
      "slideshow": {
       "slide_type": "slide"
      }
     },
     "source": [
      "Lake-river-atmosphere interactions as simulated by the CRCM5 over north-east Canada\n",
      "=====\n",
      "\n",
      "\n",
      "<span id=\"authors\">Oleksandr (Sasha) Huziy, Laxmi Sushama, Ren\u00e9 Laprise</span>\n",
      "\n",
      "<table class=\"logo\">\n",
      "<tr>\n",
      "<td>\n",
      "<img src=\"files/images/Escer2.jpg\"/> \n",
      "</td>\n",
      "\n",
      "<td>\n",
      "<img src=\"files/images/logo_uqam_0.png\"/> \n",
      "</td>\n",
      "</tr>\n",
      "</table>"
     ]
    },
    {
     "cell_type": "markdown",
     "metadata": {
      "slideshow": {
       "slide_type": "slide"
      }
     },
     "source": [
      "Outline\n",
      "=====\n",
      "\n",
      "* **Motivation**\n",
      "    \n",
      "    * Study influence of lakes on regional climate\n",
      "    \n",
      "    * Improve model realism and quality\n",
      "     \n",
      "* **Experiments and methodology**\n",
      "    \n",
      "    * River and lake routing concepts\n",
      "    \n",
      "    * Performed experiments\n",
      "\n",
      "* **Lake-atmosphere interactions**\n",
      "    \n",
      "    * Temperature, precipitation and heat fluxes\n",
      "    \n",
      "* **Lake-river routing**\n",
      "    \n",
      "    * Simulated streamflows: impact of lake routing \n",
      "    \n",
      "    * Simulated lake levels: influence of rivers\n",
      "    \n",
      "* **Interflow**\n",
      "    \n",
      "    * Impact on simulated streamflow and surface fields\n",
      "    \n",
      "\n",
      "    \n",
      "\n"
     ]
    },
    {
     "cell_type": "markdown",
     "metadata": {
      "slideshow": {
       "slide_type": "slide"
      }
     },
     "source": [
      "Motivation\n",
      "===\n",
      "\n",
      "* The importance of lakes for regioanl climate simulations was studied by:\n",
      "    \n",
      "    * Samuelsson et al (2010) - **Europe** \n",
      "    \n",
      "    * Martynov et al (2012) - **North America**\n",
      "\n",
      "* The importance of lakes in river models was emphasized in:\n",
      "    \n",
      "    * Bowling and Letteamaier (2009) - **VIC model**\n",
      "    \n",
      "    * D\u00f6ll et al (2003) - **WGHM model**\n",
      "\n"
     ]
    },
    {
     "cell_type": "markdown",
     "metadata": {
      "slideshow": {
       "slide_type": "slide"
      }
     },
     "source": [
      "Motivation\n",
      "=====\n",
      "<table>\n",
      "<tr>\n",
      "<th>River</th> <th>Simulated with lakes and wetlands</th> <th>Simulated without lakes and wetlands</th>\n",
      "</tr>\n",
      "\n",
      "<tr>\n",
      "<td>Putuligayuk</td> <td style=\"text-align:center;background-color:lightgreen;\">**0.8**</td> <td style=\"text-align:center;\">0.51</td>\n",
      "</tr>\n",
      "\n",
      "<tr>\n",
      "<td>Kuparuk</td> <td style=\"text-align:center;background-color:lightgreen;\">**0.5**</td> <td style=\"text-align:center;\">0.02</td>\n",
      "</tr>\n",
      "</table>\n",
      "\n",
      "* Monthly NS values for simulated streamflow between May and August 1999 through 2001 (taken from Bowling et al 2009)"
     ]
    },
    {
     "cell_type": "markdown",
     "metadata": {
      "slideshow": {
       "slide_type": "slide"
      }
     },
     "source": [
      "Methodology: River routing \n",
      "====\n",
      "\n",
      "<br/>\n",
      "<br/>\n",
      "<div style=\"font-size:250%;\">\n",
      "$$\n",
      "d_t S = R + U + GW - Q(S)\n",
      "$$\n",
      "</div>"
     ]
    },
    {
     "cell_type": "markdown",
     "metadata": {
      "slideshow": {
       "slide_type": "slide"
      }
     },
     "source": [
      "Methodology: Lake routing\n",
      "=====\n",
      "\n",
      "<table class=\"noborder\" width=\"1000px\">\n",
      "<tr>\n",
      "<td>\n",
      "<img src=\"files/images/global_and_local_lakes_diagram.jpg\" width=\"600px\"/> \n",
      "</td>\n",
      "\n",
      "<td valign=\"top\" width=\"60%\">\n",
      "<ul>\n",
      "<li>\n",
      "Rivers can flow into global lakes whereas local lakes get inflow only from runoff and ground water outflow generated in the same grid-cell.\n",
      "<br/>\n",
      "</li>\n",
      "\n",
      "<li>\n",
      "Each global lake is modelled as a whole by the river-lake routing scheme. \n",
      "<br/>\n",
      "</li>\n",
      "\n",
      "</ul>\n",
      "</td>\n",
      "\n",
      "</tr>\n",
      "</table>"
     ]
    },
    {
     "cell_type": "markdown",
     "metadata": {
      "slideshow": {
       "slide_type": "slide"
      }
     },
     "source": [
      "Model configuration and domain of interest\n",
      "=====\n",
      "\n",
      "**Horizontal grid:** $260\\times260$, $dx = 0.1^{\\circ}$; **Time step:** 5 min\n",
      "<table class=\"noborder\">\n",
      "<tr>\n",
      "<td width=\"50%\">\n",
      "    <img src=\"files/images/domain.jpg\">\n",
      "</td>\n",
      "\n",
      "<td valign=\"top\">\n",
      "**Surface scheme:** CLASS3.5; \n",
      "\n",
      "**Lake model:** Hostetler; \n",
      "\n",
      "**River model:** WATROUTE-modified; \n",
      "\n",
      "**Atmospheric driving data:** ERA-Interim, $1.5^{\\circ}$\n",
      "</td>\n",
      "</tr>\n",
      "</table>\n"
     ]
    },
    {
     "cell_type": "code",
     "collapsed": false,
     "input": [],
     "language": "python",
     "metadata": {
      "slideshow": {
       "slide_type": "slide"
      }
     },
     "outputs": []
    }
   ],
   "metadata": {}
  }
 ]
}