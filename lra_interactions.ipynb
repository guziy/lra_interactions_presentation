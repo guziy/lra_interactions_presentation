{
 "metadata": {
  "celltoolbar": "Slideshow",
  "name": "",
  "signature": "sha256:53c369111c05440920680da14b2a84e8b780846c98e611b621ab9196b7a9800a"
 },
 "nbformat": 3,
 "nbformat_minor": 0,
 "worksheets": [
  {
   "cells": [
    {
     "cell_type": "code",
     "collapsed": true,
     "input": [
      "%matplotlib inline"
     ],
     "language": "python",
     "metadata": {
      "slideshow": {
       "slide_type": "skip"
      }
     },
     "outputs": [],
     "prompt_number": 3
    },
    {
     "cell_type": "markdown",
     "metadata": {
      "slideshow": {
       "slide_type": "slide"
      }
     },
     "source": [
      "<h1 class=\"bigtitle\">\n",
      "Lake-river-atmosphere interactions as simulated by the CRCM5 over north-east Canada\n",
      "</h1>\n",
      "\n",
      "\n",
      "<div style=\"text-align:center;margin-top:10%;\">\n",
      "<span id=\"authors\"><nobr>Oleksandr (Sasha) Huziy, Laxmi Sushama, Ren\u00e9 Laprise</nobr></span>\n",
      "<br/>\n",
      "<br/>\n",
      "<img src=\"files/images/Escer2.jpg\" class=\"logo\"/> <img src=\"files/images/logo_uqam_0.png\" class=\"logo\"/> \n",
      "</div>\n"
     ]
    },
    {
     "cell_type": "markdown",
     "metadata": {
      "slideshow": {
       "slide_type": "slide"
      }
     },
     "source": [
      "Outline\n",
      "=====\n",
      "\n",
      "* **Motivation and Previous studies**\n",
      "     \n",
      "* **Experiments and methodology**\n",
      "    * River and lake routing concepts\n",
      "    * Performed experiments\n",
      "\n",
      "* **Lake-atmosphere interactions**\n",
      "    * Temperature, precipitation\n",
      "    \n",
      "* **Lake-river routing**\n",
      "    * Simulated streamflows: impact of lake routing \n",
      "    * Simulated lake levels: influence of rivers\n",
      "    \n",
      "* **Interflow**\n",
      "    * Impact on simulated streamflow and surface fields\n",
      "    \n",
      "* **NEMO: offline simulations**\n",
      "    * Skill of the model to represent flows and temperature of The Great Lakes \n",
      "    \n",
      "\n",
      "    \n",
      "\n"
     ]
    },
    {
     "cell_type": "markdown",
     "metadata": {
      "slideshow": {
       "slide_type": "slide"
      }
     },
     "source": [
      "Related studies\n",
      "===\n",
      "\n",
      "* The importance of lakes for regional climate simulations was studied by:\n",
      "    \n",
      "    * Samuelsson et al (2010) - **Europe** ($0.4^{\\circ} \\approx 40\\: {\\rm km}$ )\n",
      "    \n",
      "    * Martynov et al (2012) - **North America** ($0.5^{\\circ}$)\n",
      "    \n",
      "    * Notaro et al (2013) - **Great Lakes** ($10\\: {\\rm km}$)\n",
      "\n",
      "* The importance of lakes in river models was emphasized in:\n",
      "    \n",
      "    * Bowling and Letteamaier (2009) - **VIC model**\n",
      "    \n",
      "    * D\u00f6ll et al (2003) - **WGHM model**\n",
      "\n"
     ]
    },
    {
     "cell_type": "markdown",
     "metadata": {
      "slideshow": {
       "slide_type": "slide"
      }
     },
     "source": [
      "Goals of the study\n",
      "====\n",
      "\n",
      "* Study lake-atmosphere interactions at a higher resolution over Qu\u00e9bec region\n",
      "\n",
      "* Identify influence of lake-atmosphere interactions on simulated streamflow\n",
      "\n",
      "* Study lake-river interactions: simulated hydrographs and lake level variations\n",
      "\n",
      "* Quantify influence of the interflow process on regional climate and simulated streamflow\n",
      "\n",
      "* Determine the ability of the NEMO ocean model to simulate Great Lakes"
     ]
    },
    {
     "cell_type": "markdown",
     "metadata": {
      "slideshow": {
       "slide_type": "slide"
      }
     },
     "source": [
      "Model configuration and domain of interest\n",
      "=====\n",
      "\n",
      "<div>\n",
      "<div style=\"width:50%;float:left;display:inline:block;\">\n",
      "    <img src=\"files/images/domain.jpeg\" style=\"max-height:600px;\">\n",
      "</div>\n",
      "\n",
      "<div style=\"width:50%;display:inline-block;\">\n",
      "<ul>\n",
      "<li>\n",
      "**Horizontal grid:** $260\\times260$, $dx = 0.1^{\\circ}$;  \n",
      "</li>\n",
      "\n",
      "<li>**Time step:** 5 min;</li>\n",
      "\n",
      "<li><nobr>**Period:** 1980-2010</nobr></li>\n",
      "\n",
      "<li>\n",
      "**Surface scheme:** CLASS3.5; \n",
      "</li>\n",
      "\n",
      "<li>\n",
      "**Lake model:** Hostetler; \n",
      "</li>\n",
      "\n",
      "<li>\n",
      "**River model:** WATROUTE-modified; \n",
      "</li>\n",
      "\n",
      "<li>\n",
      "**Atmospheric driving data:** ERA-Interim, $1.5^{\\circ}$\n",
      "</li>\n",
      "</ul>\n",
      "</div>\n",
      "\n",
      "<div style=\"clear:both;\"></div>\n",
      "</div>"
     ]
    },
    {
     "cell_type": "markdown",
     "metadata": {
      "slideshow": {
       "slide_type": "slide"
      }
     },
     "source": [
      "Lake fractions as seen by CRCM5\n",
      "======\n",
      "<img src=\"files/images/lake_fractions_220x220_0.1deg.jpeg\"/>"
     ]
    },
    {
     "cell_type": "markdown",
     "metadata": {
      "slideshow": {
       "slide_type": "slide"
      }
     },
     "source": [
      "Lake-atmosphere interactions\n",
      "======\n",
      "\n",
      "* Comparing the following configurations:\n",
      "\n",
      "    * Simulation with lakes (**CRCM5-HCD-R**) \n",
      "\n",
      "    * Lakes replaced with land (**CRCM5-R**)\n",
      "\n"
     ]
    },
    {
     "cell_type": "markdown",
     "metadata": {
      "slideshow": {
       "slide_type": "slide"
      }
     },
     "source": [
      "<h2 style=\"text-align:center;\">Lake-atmosphere interactions: <nobr>2m air temperature $\\left({\\rm ^{\\circ}C}\\right)$</nobr></h2>\n",
      "<div>\n",
      "<img src=\"files/images/seasonal_mean_maps/CRCM5-HCD-R_vs_CRCM5-R_for_Winter-Spring-Summer-Fall_1980-2010/TT_CRCM5-HCD-R_CRCM5-R.jpeg\" style=\"width:80%;\">\n",
      "</div>\n",
      "**No summer cooling directly over lakes is visible in seasonal means**"
     ]
    },
    {
     "cell_type": "markdown",
     "metadata": {
      "slideshow": {
       "slide_type": "slide"
      }
     },
     "source": [
      "<h2 style=\"text-align:center;\">Lake-atmosphere interactions: <nobr>2m air temperature $\\left({\\rm ^{\\circ}C}\\right)$ monthly means</nobr></h2>\n",
      "\n",
      "<img src=\"files/images/seasonal_mean_maps/CRCM5-HCD-R_vs_CRCM5-R_for_May-June-July-August/TT_CRCM5-HCD-R_CRCM5-R.jpeg\">"
     ]
    },
    {
     "cell_type": "markdown",
     "metadata": {
      "slideshow": {
       "slide_type": "slide"
      }
     },
     "source": [
      "<h2 style=\"text-align:center;\">Lake-atmosphere interactions: <nobr>Total precipitation $\\left({\\rm mm/day}\\right)$ </nobr></h2>\n",
      "<img src=\"files/images/seasonal_mean_maps/CRCM5-HCD-R_vs_CRCM5-R_for_Winter-Spring-Summer-Fall_1980-2010/PR_CRCM5-HCD-R_CRCM5-R.jpeg\">\n"
     ]
    },
    {
     "cell_type": "markdown",
     "metadata": {
      "slideshow": {
       "slide_type": "slide"
      }
     },
     "source": [
      "<h2 style=\"text-align:center;\">Lake-atmosphere interactions: <nobr>Streamflow $\\left({\\rm m^3/s}\\right)$ </nobr></h2>\n",
      "<img src=\"files/images/seasonal_mean_maps/CRCM5-HCD-R_vs_CRCM5-R_for_Winter-Spring-Summer-Fall_1980-2010/STFA_CRCM5-HCD-R_CRCM5-R.jpeg\"/>\n",
      "\n",
      "* Streamflow decreases in spring due to decrease of the areas from which meltwater flows into rivers.\n"
     ]
    },
    {
     "cell_type": "markdown",
     "metadata": {
      "slideshow": {
       "slide_type": "slide"
      }
     },
     "source": [
      "Conclusion: lake-atmosphere interactions\n",
      "=====\n",
      "\n",
      "\n",
      "* Lake-atmosphere interactions warm up climate on seasonal scale (cooling is also observed during a short period in summer) and increase precipitation for the considered experimental set up.\n",
      "* The impact on streamflow is mostly positive, but not very big ($\\leq 75\\; {\\rm m^3/s}$)"
     ]
    },
    {
     "cell_type": "markdown",
     "metadata": {
      "slideshow": {
       "slide_type": "slide"
      }
     },
     "source": [
      "Methodology: River-lake routing \n",
      "====\n",
      "\n",
      "<br/>\n",
      "<br/>\n",
      "<div style=\"font-size:200%;\">\n",
      "$$\n",
      "d_t S = R + U + GW - Q(S)\n",
      "$$\n",
      "<hr>\n",
      "<img src=\"files/images/river_routing_scheme.jpg\">\n",
      "\n",
      "</div>"
     ]
    },
    {
     "cell_type": "markdown",
     "metadata": {
      "slideshow": {
       "slide_type": "slide"
      }
     },
     "source": [
      "Lake-river routing\n",
      "======\n",
      "\n",
      "* Comparing configurations:\n",
      "    \n",
      "    * **CRCM5-HCD-R:** only river routing\n",
      "    \n",
      "    * **CRCM5-HCD-RL:** river and lake routing"
     ]
    },
    {
     "cell_type": "markdown",
     "metadata": {
      "slideshow": {
       "slide_type": "slide"
      }
     },
     "source": [
      "<h2 style=\"text-align:center;\">Lake-river routing results: <nobr>Seasonal streamflow $\\left({\\rm m^3/s}\\right)$</nobr></h2>\n",
      "<img src=\"files/images/seasonal_mean_maps/CRCM5-HCD-RL_vs_CRCM5-HCD-R_for_Winter-Spring-Summer-Fall_1980-2010/STFA_CRCM5-HCD-RL_CRCM5-HCD-R.jpeg\"/>"
     ]
    },
    {
     "cell_type": "markdown",
     "metadata": {
      "slideshow": {
       "slide_type": "slide"
      }
     },
     "source": [
      "Streamflow validation\n",
      "======\n",
      "<div style=\"text-align:center;width:40%;float:left;display:inline-block;\">\n",
      "<img src=\"files/images/station_positions_stfl_CEHQ.jpeg\" />\n",
      "</div>\n",
      "\n",
      "<div style=\"text-align:center;width:60%;float:left;display:inline-block;\">\n",
      "<img src=\"files/images/comp_point_with_obs_CRCM5-HCD-R_CRCM5-HCD-RL.jpeg\" style=\"max-height:500px;\"/>\n",
      "</div>"
     ]
    },
    {
     "cell_type": "markdown",
     "metadata": {
      "slideshow": {
       "slide_type": "slide"
      }
     },
     "source": [
      "Streamflow validation\n",
      "=====\n",
      "<div style=\"text-align:center;width:50%;float:left;display:inline-block;\">\n",
      "<h3>$Q_{10}$</h3>\n",
      "<img src=\"files/images/percentiles_comparison_q10.jpeg\"/>\n",
      "</div>\n",
      "\n",
      "<div style=\"text-align:center;width:50%;display:inline-block;\">\n",
      "<h3>$Q_{90}$</h3>\n",
      "<img src=\"files/images/percentiles_comparison_q90.jpeg\"/>\n",
      "</div>"
     ]
    },
    {
     "cell_type": "markdown",
     "metadata": {
      "slideshow": {
       "slide_type": "slide"
      }
     },
     "source": [
      "Conclusion: Lake-river routing\n",
      "=====\n",
      "\n",
      "* Lake-river routing is very significant for seasonal mean streamflow values. Its effect can be up to $300-400\\;{\\rm m^3/s}$\n",
      "\n",
      "* Lake-river routing improves simulated high and low flow values\n"
     ]
    },
    {
     "cell_type": "markdown",
     "metadata": {
      "slideshow": {
       "slide_type": "slide"
      }
     },
     "source": [
      "Lake level\n",
      "==========\n",
      "\n",
      "Compare lake level variation due to only $\\left(P-E\\right)$ term with the variation of the levels modelled via river lake routing.\n",
      "-----------\n",
      "\n"
     ]
    },
    {
     "cell_type": "markdown",
     "metadata": {
      "slideshow": {
       "slide_type": "slide"
      }
     },
     "source": [
      "<div  style=\"text-align:center;width:50%;float:left;display:inline-block;\">\n",
      "<img src=\"files/images/CEHQ_levels/comp_point_with_obs_040408_CEHQ_CRCM5-HCD-RL.jpeg\">\n",
      "</div>\n",
      "<div  style=\"text-align:center;width:50%;float:left;display:inline-block;\">\n",
      "<img src=\"files/images/CEHQ_levels/comp_point_with_obs_093807_CEHQ_CRCM5-HCD-RL.jpeg\">\n",
      "</div>"
     ]
    },
    {
     "cell_type": "markdown",
     "metadata": {
      "slideshow": {
       "slide_type": "slide"
      }
     },
     "source": [
      "Conclusion: lake levels\n",
      "=====\n",
      "\n",
      "* $(P-E)$ only is not sufficient to fully explain lake level variability: spring peak amplitude is underestimated and secondary maximum tha occurs in Fallis not present. "
     ]
    },
    {
     "cell_type": "markdown",
     "metadata": {
      "slideshow": {
       "slide_type": "slide"
      }
     },
     "source": [
      "Interflow: mechanism\n",
      "=======\n",
      "<div style=\"display:inline-block;width:35%;float:left;\">\n",
      "<img src=\"files/images/runoff_basic.jpg\" style=\"max-height:700px;margin-left:auto;margin-right:auto;\"/>\n",
      "</div>\n",
      "\n",
      "<div style=\"display:inline-block;width:65%;\">\n",
      "The prognostic variable is saturation $SR(t) =\\theta_l/\\theta_s$, which can be expressed as a function of time (counted starting from complete saturation) from the continuity and Darcian equations (Mekonnen et al 2012). \n",
      "</div>\n",
      "<br/>\n",
      "<div style=\"font-size:120%;margin-top:30px;\">\n",
      "$$\n",
      "SR(t) = \\begin{cases}\n",
      "1-\\frac{1}{c}\\frac{t}{t_c}, & 0\\leq t \\leq t_c \\\\\n",
      "\\left( 1-\\frac{1}{c} \\right) \\left(\\frac{t_c}{t} \\right)^{1/(c-1)}, & t > t_c \n",
      "\\end{cases}\n",
      "$$\n",
      "</div>\n"
     ]
    },
    {
     "cell_type": "markdown",
     "metadata": {
      "slideshow": {
       "slide_type": "slide"
      }
     },
     "source": [
      "<h2 style=\"text-align:center;\">Interflow: Soil parameters</h2>\n",
      "\n",
      "<div style=\"text-align:center;\">\n",
      "<img src=\"files/images/static_fields.jpeg\" style=\"max-height:700px;margin-left:auto;margin-right:auto;\"/>\n",
      "</div>"
     ]
    },
    {
     "cell_type": "markdown",
     "metadata": {
      "slideshow": {
       "slide_type": "slide"
      }
     },
     "source": [
      "<h2 style=\"text-align:center;\">Interflow: change in streamflow $\\left({\\rm m^3/s}\\right)$</h2>\n",
      "\n",
      "<img src=\"files/images/seasonal_mean_maps/ITFS_vs_CRCM5-HCD-RL_for_Winter-Spring-Summer-Fall/STFL_ITFS_CRCM5-HCD-RL.jpeg\"/>"
     ]
    },
    {
     "cell_type": "markdown",
     "metadata": {
      "slideshow": {
       "slide_type": "slide"
      }
     },
     "source": [
      "<h2 style=\"text-align:center;\">Interflow: surface runoff $\\left({\\rm mm/day}\\right)$</h2>\n",
      "\n",
      "<img src=\"files/images/seasonal_mean_maps/ITFS_vs_CRCM5-HCD-RL_for_Winter-Spring-Summer-Fall/TRAF_ITFS_CRCM5-HCD-RL.jpeg\"/>"
     ]
    },
    {
     "cell_type": "markdown",
     "metadata": {
      "slideshow": {
       "slide_type": "slide"
      }
     },
     "source": [
      "<h2 style=\"text-align:center;\">Interflow: 2m air temperature $\\left({\\rm ^{\\circ}C}\\right)$</h2>\n",
      "\n",
      "<img src=\"files/images/seasonal_mean_maps/ITFS_vs_CRCM5-HCD-RL_for_Winter-Spring-Summer-Fall/TT_ITFS_CRCM5-HCD-RL.jpeg\"/>"
     ]
    },
    {
     "cell_type": "markdown",
     "metadata": {
      "slideshow": {
       "slide_type": "slide"
      }
     },
     "source": [
      "<h2 style=\"text-align:center;\">Interflow: absorbed shortwave radiation at the surface $\\left({\\rm W/m^2}\\right)$</h2>\n",
      "\n",
      "<img src=\"files/images/seasonal_mean_maps/ITFS_vs_CRCM5-HCD-RL_for_Winter-Spring-Summer-Fall/AS_ITFS_CRCM5-HCD-RL.jpeg\"/>"
     ]
    },
    {
     "cell_type": "markdown",
     "metadata": {},
     "source": [
      "Conclusions: interflow\n",
      "======\n",
      "* Interflow does not seem to be a major factor in the river flow process in the study region. Though it causes noticeable changes to soil moisture up to 30 mm and 2m temperature.\n",
      "\n",
      "* For the simulated streamflow the effect of the interflow is comparable with the effect of lake-atmosphere interactions."
     ]
    },
    {
     "cell_type": "markdown",
     "metadata": {
      "slideshow": {
       "slide_type": "slide"
      }
     },
     "source": [
      "NEMO: 3D ocean model for the Great Lakes\n",
      "====\n",
      "\n",
      "Questions:\n",
      "-------\n",
      "\n",
      "* Validation, weaknesses and strengths, how it works?\n",
      "\n",
      "* Preliminary comparison with Hostetler model\n",
      "\n"
     ]
    },
    {
     "cell_type": "markdown",
     "metadata": {
      "slideshow": {
       "slide_type": "slide"
      }
     },
     "source": [
      "Simulation setup\n",
      "====\n",
      "* Horizontal resolution: 0.1 degree, 170\u00d790 gridpoints (Rotated lat/lon projection)\n",
      "* 35 vertical levels with partial steps at the bottom. Level thickness gradually increases from 25 cm at the surface to 30 m at the bottom\n",
      "* Model version: 3.4\n",
      "<div style=\"text-align:center;\">\n",
      "<h4>Bathymetry (m)</h4>\n",
      "<img src=\"files/images/nemo/bathy_meter.svg\" style=\"max-height:400px;margin-left:auto;margin-right:auto;\"/>\n",
      "</div>"
     ]
    },
    {
     "cell_type": "markdown",
     "metadata": {
      "slideshow": {
       "slide_type": "slide"
      }
     },
     "source": [
      "Conclusions\n",
      "======\n",
      "\n",
      "* Lakes improve simulated streamflow\n",
      "\n",
      "* Simulating river flow improves (increases) lake level variability\n",
      "\n",
      "* Interflow does not seem to be a major factor in the river flow process in the study region. Though it causes noticeable changes to soil moisture up to 30 mm and 2m temperature.\n",
      "\n",
      "* For the simulated streamflow the effect of the interflow is comparable with the effect of lake-atmosphere interactions."
     ]
    },
    {
     "cell_type": "markdown",
     "metadata": {
      "slideshow": {
       "slide_type": "slide"
      }
     },
     "source": [
      "Acknowledgements\n",
      "=====\n",
      "<div style=\"text-align:center; font-size:130%\">\n",
      "Thanks are due to the following people for their kind help and advice:\n",
      "<h4>\n",
      "Michel Valin, Katja Winger, Bernard Dugas, Philippe Lucas-Picher, Frederic Dupont\n",
      "</h4>\n",
      "</div>"
     ]
    },
    {
     "cell_type": "markdown",
     "metadata": {
      "slideshow": {
       "slide_type": "slide"
      }
     },
     "source": [
      "<div>\n",
      "<h1 style=\"margin-top:5em;\">Thank you for attention!!!</h1>\n",
      "</div>"
     ]
    },
    {
     "cell_type": "code",
     "collapsed": true,
     "input": [
      "from IPython.display import HTML, display\n",
      "with open(\"custom.css\") as f:\n",
      "    s = f.read()\n",
      "    s = \"<style>{0}</style>\".format(s)\n",
      "display(HTML(s))"
     ],
     "language": "python",
     "metadata": {
      "slideshow": {
       "slide_type": "slide"
      }
     },
     "outputs": [
      {
       "html": [
        "<style>\n",
        ".reveal img{\n",
        "\tmax-height: 700px;\n",
        "}\n",
        "\n",
        "\n",
        ".reveal img.logo{\n",
        "    height: 60px;\n",
        "    max-width: 200px;\n",
        "    margin-left: 0;\n",
        "    margin-right: 0;\n",
        "    display: inline-block; \n",
        "}\n",
        "\n",
        "#authors{\n",
        "\tcolor: gray;\n",
        "\tfont-size: 150%;\n",
        "}\n",
        "\n",
        "\n",
        ".reveal{\n",
        "\tfont-size: 230%;\n",
        "}\n",
        "\n",
        "//copied from: http://slideviewer.herokuapp.com/github/ellisonbg/talk-scipy2013/blob/master/FeaturesAndScope.ipynb#/\n",
        ".rendered_html {\n",
        "    font-family: \"proxima-nova\", helvetica;\n",
        "    font-size: 200%;\n",
        "    line-height: 1.3;\n",
        "}\n",
        "\n",
        "\n",
        ".rendered_html h1 {\n",
        "    margin: 0.25em 0em 0.5em;\n",
        "    color: #015C9C;\n",
        "    text-align: center;\n",
        "    line-height: 1.2; \n",
        "    page-break-before: always;\n",
        "}\n",
        "\n",
        ".rendered_html h2 {\n",
        "    margin: 1.1em 0em 0.5em;\n",
        "    color: #26465D;\n",
        "    line-height: 1.2;\n",
        "}\n",
        "\n",
        ".rendered_html h3 {\n",
        "    margin: 1.1em 0em 0.5em;\n",
        "    color: #002845;\n",
        "    line-height: 1.2;\n",
        "}\n",
        "\n",
        ".rendered_html li {\n",
        "    line-height: 1.5; \n",
        "}\n",
        "\n",
        ".prompt {\n",
        "    font-size: 120%; \n",
        "}\n",
        "\n",
        ".CodeMirror-lines {\n",
        "    font-size: 120%; \n",
        "}\n",
        "\n",
        ".output_area {\n",
        "    font-size: 120%; \n",
        "}\n",
        "\n",
        "h1.bigtitle {\n",
        "    margin: 4cm 1cm 4cm 1cm;\n",
        "    font-size: 250%;\n",
        "}\n",
        "\n",
        "h3.point {\n",
        "    font-size: 200%;\n",
        "    text-align: center;\n",
        "    margin: 2em 0em 2em 0em;\n",
        "    #26465D\n",
        "}\n",
        "\n",
        "a.anchor-link {\n",
        "    display: none;\n",
        "}\n",
        "\n",
        "h1.title { \n",
        "    font-size: 250%;\n",
        "}\n",
        "\n",
        "</style>"
       ],
       "metadata": {},
       "output_type": "display_data",
       "text": [
        "<IPython.core.display.HTML at 0x30d41d0>"
       ]
      }
     ],
     "prompt_number": 1
    },
    {
     "cell_type": "code",
     "collapsed": true,
     "input": [],
     "language": "python",
     "metadata": {},
     "outputs": [],
     "prompt_number": 3
    },
    {
     "cell_type": "markdown",
     "metadata": {
      "slideshow": {
       "slide_type": "skip"
      }
     },
     "source": [
      "Methodology: Lake routing\n",
      "=====\n",
      "\n",
      "<div style=\"width:40%;float:left;display:inline-block;\">\n",
      "<img src=\"files/images/global_and_local_lakes_diagram.jpg\"/> \n",
      "</div>\n",
      "\n",
      "<div style=\"display:inline-block;width:60%;\">\n",
      "<ul>\n",
      "<li>\n",
      "Rivers can flow into global lakes whereas local lakes \n",
      "get inflow only from runoff and ground water outflow \n",
      "generated in the same grid-cell.\n",
      "</li>\n",
      "\n",
      "<li>\n",
      "Each global lake is modelled as a whole by the river-lake routing scheme. \n",
      "</li>\n",
      "\n",
      "</ul>\n",
      "</div>\n"
     ]
    },
    {
     "cell_type": "code",
     "collapsed": false,
     "input": [],
     "language": "python",
     "metadata": {},
     "outputs": []
    }
   ],
   "metadata": {}
  }
 ]
}