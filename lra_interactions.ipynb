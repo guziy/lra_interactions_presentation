{
 "metadata": {
  "name": ""
 },
 "nbformat": 3,
 "nbformat_minor": 0,
 "worksheets": [
  {
   "cells": [
    {
     "cell_type": "markdown",
     "metadata": {
      "slideshow": {
       "slide_type": "slide"
      }
     },
     "source": [
      "Lake-river-atmosphere interactions as simulated by the CRCM5 over north-east Canada\n",
      "=====\n",
      "\n",
      "\n",
      "<span id=\"authors\">Oleksandr (Sasha) Huziy, Laxmi Sushama, Ren\u00e9 Laprise</span>\n",
      "\n",
      "<table class=\"logo\">\n",
      "<tr>\n",
      "<td>\n",
      "<img src=\"files/images/Escer2.jpg\"/> \n",
      "</td>\n",
      "\n",
      "<td>\n",
      "<img src=\"files/images/logo_uqam_0.png\"/> \n",
      "</td>\n",
      "</tr>\n",
      "</table>"
     ]
    },
    {
     "cell_type": "markdown",
     "metadata": {
      "slideshow": {
       "slide_type": "slide"
      }
     },
     "source": [
      "Outline\n",
      "=====\n",
      "\n",
      "* **Motivation and Previous studies**\n",
      "     \n",
      "* **Experiments and methodology**\n",
      "    * River and lake routing concepts\n",
      "    * Performed experiments\n",
      "\n",
      "* **Lake-atmosphere interactions**\n",
      "    * Temperature, precipitation\n",
      "    \n",
      "* **Lake-river routing**\n",
      "    * Simulated streamflows: impact of lake routing \n",
      "    * Simulated lake levels: influence of rivers\n",
      "    \n",
      "* **Interflow**\n",
      "    * Impact on simulated streamflow and surface fields\n",
      "    \n",
      "\n",
      "    \n",
      "\n"
     ]
    },
    {
     "cell_type": "markdown",
     "metadata": {
      "slideshow": {
       "slide_type": "slide"
      }
     },
     "source": [
      "Related studies\n",
      "===\n",
      "\n",
      "* The importance of lakes for regioanl climate simulations was studied by:\n",
      "    \n",
      "    * Samuelsson et al (2010) - **Europe** ($0.4^{\\circ} \\approx 40\\: {\\rm km}$ )\n",
      "    \n",
      "    * Martynov et al (2012) - **North America** ($0.5^{\\circ}$)\n",
      "    \n",
      "    * Notaro et al (2013) - **Great Lakes** ($10\\: {\\rm km}$)\n",
      "\n",
      "* The importance of lakes in river models was emphasized in:\n",
      "    \n",
      "    * Bowling and Letteamaier (2009) - **VIC model**\n",
      "    \n",
      "    * D\u00f6ll et al (2003) - **WGHM model**\n",
      "\n"
     ]
    },
    {
     "cell_type": "markdown",
     "metadata": {
      "slideshow": {
       "slide_type": "slide"
      }
     },
     "source": [
      "Methodology: River routing \n",
      "====\n",
      "\n",
      "<br/>\n",
      "<br/>\n",
      "<div style=\"font-size:200%;text-align:center\">\n",
      "$$\n",
      "d_t S = R + \\color{red}U + \\color{red}{GW} - \\color{red}{Q(S)}\n",
      "$$\n",
      "</div>"
     ]
    },
    {
     "cell_type": "markdown",
     "metadata": {
      "slideshow": {
       "slide_type": "slide"
      }
     },
     "source": [
      "Methodology: Lake routing\n",
      "=====\n",
      "\n",
      "<table class=\"noborder\" width=\"1000px\">\n",
      "<tr>\n",
      "<td>\n",
      "<img src=\"files/images/global_and_local_lakes_diagram.jpg\" width=\"600px\"/> \n",
      "</td>\n",
      "\n",
      "<td valign=\"top\" width=\"60%\">\n",
      "<ul>\n",
      "<li>\n",
      "Rivers can flow into global lakes whereas local lakes get inflow only from runoff and ground water outflow generated in the same grid-cell.\n",
      "<br/>\n",
      "</li>\n",
      "\n",
      "<li>\n",
      "Each global lake is modelled as a whole by the river-lake routing scheme. \n",
      "<br/>\n",
      "</li>\n",
      "\n",
      "</ul>\n",
      "</td>\n",
      "\n",
      "</tr>\n",
      "</table>"
     ]
    },
    {
     "cell_type": "markdown",
     "metadata": {
      "slideshow": {
       "slide_type": "slide"
      }
     },
     "source": [
      "Model configuration and domain of interest\n",
      "=====\n",
      "\n",
      "**Horizontal grid:** $260\\times260$, $dx = 0.1^{\\circ}$; **Time step:** 5 min; <nobr>**Period:** 1980-2010</nobr>\n",
      "<table class=\"noborder\">\n",
      "<tr>\n",
      "<td width=\"50%\">\n",
      "    <img src=\"files/images/domain.jpg\">\n",
      "</td>\n",
      "\n",
      "<td valign=\"top\">\n",
      "**Surface scheme:** CLASS3.5; \n",
      "\n",
      "**Lake model:** Hostetler; \n",
      "\n",
      "**River model:** WATROUTE-modified; \n",
      "\n",
      "**Atmospheric driving data:** ERA-Interim, $1.5^{\\circ}$\n",
      "</td>\n",
      "</tr>\n",
      "</table>\n"
     ]
    },
    {
     "cell_type": "markdown",
     "metadata": {
      "slideshow": {
       "slide_type": "slide"
      }
     },
     "source": [
      "Lake fractions as seen by CRCM5\n",
      "======\n",
      "<img src=\"files/images/lake_fractions_220x220_0.1deg.jpeg\"/>"
     ]
    },
    {
     "cell_type": "markdown",
     "metadata": {
      "slideshow": {
       "slide_type": "slide"
      }
     },
     "source": [
      "Lake-atmosphere interactions\n",
      "======\n",
      "\n",
      "* Comparing the following configurations:\n",
      "\n",
      "    * Simulation with lakes (**CRCM5-HCD-R**) \n",
      "\n",
      "    * Lakes replaced with land (**CRCM5-R**)\n",
      "\n"
     ]
    },
    {
     "cell_type": "markdown",
     "metadata": {
      "slideshow": {
       "slide_type": "slide"
      }
     },
     "source": [
      "Lake-atmosphere interactions: <nobr>2m air temperature ${\\rm ^{\\circ}C}$</nobr>\n",
      "======\n",
      "\n",
      "<img src=\"files/images/seasonal_mean_maps/CRCM5-HCD-R_vs_CRCM5-R_for_Winter-Spring-Summer-Fall/TT_CRCM5-HCD-R_CRCM5-R.jpeg\">\n",
      "\n",
      "**No summer cooling visible in seasonal means**"
     ]
    },
    {
     "cell_type": "markdown",
     "metadata": {
      "slideshow": {
       "slide_type": "slide"
      }
     },
     "source": [
      "Lake-atmosphere interactions: <nobr>2m air temperature ${\\rm ^{\\circ}C}$ monthly means</nobr>\n",
      "======\n",
      "\n",
      "<img src=\"files/images/seasonal_mean_maps/CRCM5-HCD-R_vs_CRCM5-R_for_May-June-July-August/TT_CRCM5-HCD-R_CRCM5-R.jpeg\">"
     ]
    },
    {
     "cell_type": "markdown",
     "metadata": {
      "slideshow": {
       "slide_type": "slide"
      }
     },
     "source": [
      "Lake-atmosphere interactions: <nobr>Total precipitation ${\\rm mm/day}$ </nobr>\n",
      "======\n",
      "<img src=\"files/images/seasonal_mean_maps/CRCM5-HCD-R_vs_CRCM5-R_for_Winter-Spring-Summer-Fall/PR_CRCM5-HCD-R_CRCM5-R.jpeg\">\n"
     ]
    },
    {
     "cell_type": "markdown",
     "metadata": {
      "slideshow": {
       "slide_type": "slide"
      }
     },
     "source": [
      "Lake-atmosphere interactions: <nobr>Streamflow ${\\rm m^3/s}$ </nobr>\n",
      "======\n",
      "<img src=\"files/images/seasonal_mean_maps/CRCM5-HCD-R_vs_CRCM5-R_for_Winter-Spring-Summer-Fall/STFA_CRCM5-HCD-R_CRCM5-R.jpeg\"/>\n"
     ]
    },
    {
     "cell_type": "markdown",
     "metadata": {
      "slideshow": {
       "slide_type": "slide"
      }
     },
     "source": [
      "Conclusion: lake-atmosphere interactions\n",
      "=====\n",
      "\n",
      "\n",
      "* Lake-atmosphere interactions warm climate and increase precipitation for the considered experiment\n",
      "* The impact on streamflow is mostly positive, but not very big ($\\leq 75\\; {\\rm m^3/s}$)"
     ]
    },
    {
     "cell_type": "markdown",
     "metadata": {
      "slideshow": {
       "slide_type": "slide"
      }
     },
     "source": [
      "Lake-river routing\n",
      "======\n",
      "\n",
      "* Comparing configurations:\n",
      "    \n",
      "    * **CRCM5-HCD-R:** only river routing\n",
      "    \n",
      "    * **CRCM5-HCD-RL:** river and lake routing"
     ]
    },
    {
     "cell_type": "markdown",
     "metadata": {
      "slideshow": {
       "slide_type": "slide"
      }
     },
     "source": [
      "Lake-river routing results: <nobr>Seasonal streamflow $\\left({\\rm m^3/s}\\right)$</nobr>\n",
      "===========================\n",
      "<img src=\"files/images/seasonal_mean_maps/CRCM5-HCD-RL_vs_CRCM5-HCD-R_for_Winter-Spring-Summer-Fall/STFA_CRCM5-HCD-RL_CRCM5-HCD-R.jpeg\"/>"
     ]
    },
    {
     "cell_type": "markdown",
     "metadata": {
      "slideshow": {
       "slide_type": "slide"
      }
     },
     "source": [
      "Streamflow validation: Station positions\n",
      "======\n",
      "<div style=\"text-align:center\">\n",
      "<img src=\"files/images/station_positions_stfl_CEHQ.jpeg\" style=\"height:500px;\" />\n",
      "</div>"
     ]
    },
    {
     "cell_type": "markdown",
     "metadata": {
      "slideshow": {
       "slide_type": "slide"
      }
     },
     "source": [
      "Streamflow validation: climatologic hydrographs\n",
      "=================================================\n",
      "<img src=\"files/images/comp_point_with_obs_CRCM5-HCD-R_CRCM5-HCD-RL.jpeg\"/>"
     ]
    },
    {
     "cell_type": "markdown",
     "metadata": {
      "slideshow": {
       "slide_type": "slide"
      }
     },
     "source": [
      "Streamflow validation: $Q_{10}$\n",
      "=================================================\n",
      "<img src=\"files/images/percentiles_comparison_q10.jpeg\"/>"
     ]
    },
    {
     "cell_type": "markdown",
     "metadata": {
      "slideshow": {
       "slide_type": "slide"
      }
     },
     "source": [
      "Streamflow validation: $Q_{90}$\n",
      "=================================================\n",
      "<img src=\"files/images/percentiles_comparison_q90.jpeg\"/>"
     ]
    },
    {
     "cell_type": "markdown",
     "metadata": {
      "slideshow": {
       "slide_type": "slide"
      }
     },
     "source": [
      "Conclusion: Lake-river routing\n",
      "=====\n",
      "\n",
      "* Lake-river routing is very significant for seasonal mean streamflow values. Its effect can be up to $300-400\\;{\\rm m^3/s}$\n",
      "\n",
      "* Lake-river routing improves simulated high and low flow values\n"
     ]
    },
    {
     "cell_type": "markdown",
     "metadata": {
      "slideshow": {
       "slide_type": "slide"
      }
     },
     "source": [
      "Lake level\n",
      "==========\n",
      "\n",
      "Compare lake level variation due to only $\\left(P-E\\right)$ term with the variation of the levels modelled via river lake routing.\n",
      "-----------\n",
      "\n"
     ]
    },
    {
     "cell_type": "markdown",
     "metadata": {
      "slideshow": {
       "slide_type": "slide"
      }
     },
     "source": [
      "<img src=\"files/images/CEHQ_levels/comp_point_with_obs_040408_CEHQ_CRCM5-HCD-RL.jpeg\">"
     ]
    },
    {
     "cell_type": "markdown",
     "metadata": {
      "slideshow": {
       "slide_type": "slide"
      }
     },
     "source": [
      "<img src=\"files/images/CEHQ_levels/comp_point_with_obs_093807_CEHQ_CRCM5-HCD-RL.jpeg\">"
     ]
    },
    {
     "cell_type": "markdown",
     "metadata": {
      "slideshow": {
       "slide_type": "slide"
      }
     },
     "source": [
      "Conclusion: lake levels\n",
      "=====\n",
      "\n",
      "* $(P-E)$ only is not sufficient to fully explain lake level variability: spring peak amplitude is underestimated and secondary maximum tha occurs in Fallis not present. "
     ]
    },
    {
     "cell_type": "markdown",
     "metadata": {
      "slideshow": {
       "slide_type": "slide"
      }
     },
     "source": [
      "Interflow: mechanism\n",
      "=======\n",
      "<div style=\"text-align:center;\">\n",
      "<img src=\"files/images/interflow.jpeg\"/>\n",
      "</div>"
     ]
    },
    {
     "cell_type": "markdown",
     "metadata": {
      "slideshow": {
       "slide_type": "slide"
      }
     },
     "source": [
      "Interflow: formulation\n",
      "=====\n",
      "\n",
      "<div style=\"font-size:150%;\">\n",
      "$$\n",
      "S(t) = \\begin{cases}\n",
      "1-\\frac{1}{c}\\frac{t}{t_c}, & 0\\leq t \\leq t_c \\\\\n",
      "\\left( 1-\\frac{1}{c} \\right) \\left(\\frac{t_c}{t} \\right)^{1/(c-1)}, & t > t_c \n",
      "\\end{cases}\n",
      "$$\n",
      "</div>\n",
      "<br/>\n",
      "\n",
      "The prognostic variable is saturation $S(t) =\\theta_l/\\theta_s$, which can be expressed as a function of time (counted starting from complete saturation) from the continuity and Darcian equations. "
     ]
    },
    {
     "cell_type": "markdown",
     "metadata": {
      "slideshow": {
       "slide_type": "slide"
      }
     },
     "source": [
      "Interflow: Soil parameters\n",
      "====\n",
      "\n",
      "<img src=\"files/images/static_fields.jpeg\" style=\"max-height:500px;\"/>"
     ]
    },
    {
     "cell_type": "markdown",
     "metadata": {
      "slideshow": {
       "slide_type": "slide"
      }
     },
     "source": [
      "Interflow: change in streamflow $\\left({\\rm m^3/s}\\right)$\n",
      "=======\n",
      "\n",
      "<img src=\"files/images/seasonal_mean_maps/ITFS_vs_CRCM5-HCD-RL_for_Winter-Spring-Summer-Fall/STFL_ITFS_CRCM5-HCD-RL.jpeg\"/>"
     ]
    },
    {
     "cell_type": "markdown",
     "metadata": {
      "slideshow": {
       "slide_type": "slide"
      }
     },
     "source": [
      "Interflow: surface runoff $\\left({\\rm mm/day}\\right)$\n",
      "=======\n",
      "\n",
      "<img src=\"files/images/seasonal_mean_maps/ITFS_vs_CRCM5-HCD-RL_for_Winter-Spring-Summer-Fall/TRAF_ITFS_CRCM5-HCD-RL.jpeg\"/>"
     ]
    },
    {
     "cell_type": "markdown",
     "metadata": {
      "slideshow": {
       "slide_type": "slide"
      }
     },
     "source": [
      "Interflow: 2m air temperature $\\left({\\rm ^{\\circ}C}\\right)$\n",
      "=======\n",
      "\n",
      "<img src=\"files/images/seasonal_mean_maps/ITFS_vs_CRCM5-HCD-RL_for_Winter-Spring-Summer-Fall/TT_ITFS_CRCM5-HCD-RL.jpeg\"/>"
     ]
    },
    {
     "cell_type": "markdown",
     "metadata": {},
     "source": [
      "Interflow: absorbed shortwave radiation at the surface $\\left({\\rm W/m^2}\\right)$\n",
      "=======\n",
      "\n",
      "<img src=\"files/images/seasonal_mean_maps/ITFS_vs_CRCM5-HCD-RL_for_Winter-Spring-Summer-Fall/AS_ITFS_CRCM5-HCD-RL.jpeg\"/>"
     ]
    },
    {
     "cell_type": "markdown",
     "metadata": {
      "slideshow": {
       "slide_type": "slide"
      }
     },
     "source": [
      "Conclusions\n",
      "======\n",
      "\n",
      "* Lakes improve simulated streamflow\n",
      "\n",
      "* Simulating river flow improves (increases) lake level variability\n",
      "\n",
      "* Interflow does not seem to be a major factor in the river flow process in the study region. Though it causes noticeable changes to soil moisture up to 30 mm and 2m temperature."
     ]
    },
    {
     "cell_type": "markdown",
     "metadata": {
      "slideshow": {
       "slide_type": "slide"
      }
     },
     "source": [
      "Thank you for attention!!!\n",
      "======="
     ]
    },
    {
     "cell_type": "code",
     "collapsed": false,
     "input": [
      "#copied from: http://slideviewer.herokuapp.com/github/ellisonbg/talk-scipy2013/blob/master/FeaturesAndScope.ipynb#/\n",
      "from IPython.display import display, HTML\n",
      "s = \"\"\"\n",
      "\n",
      "<style>\n",
      "\n",
      ".rendered_html {\n",
      "    font-family: \"proxima-nova\", helvetica;\n",
      "    font-size: 150%;\n",
      "    line-height: 1.3;\n",
      "}\n",
      "\n",
      ".rendered_html h1 {\n",
      "    margin: 0.25em 0em 0.5em;\n",
      "    color: #015C9C;\n",
      "    text-align: center;\n",
      "    line-height: 1.2; \n",
      "    page-break-before: always;\n",
      "}\n",
      "\n",
      ".rendered_html h2 {\n",
      "    margin: 1.1em 0em 0.5em;\n",
      "    color: #26465D;\n",
      "    line-height: 1.2;\n",
      "}\n",
      "\n",
      ".rendered_html h3 {\n",
      "    margin: 1.1em 0em 0.5em;\n",
      "    color: #002845;\n",
      "    line-height: 1.2;\n",
      "}\n",
      "\n",
      ".rendered_html li {\n",
      "    line-height: 1.5; \n",
      "}\n",
      "\n",
      ".prompt {\n",
      "    font-size: 120%; \n",
      "}\n",
      "\n",
      ".CodeMirror-lines {\n",
      "    font-size: 120%; \n",
      "}\n",
      "\n",
      ".output_area {\n",
      "    font-size: 120%; \n",
      "}\n",
      "\n",
      "h1.bigtitle {\n",
      "    margin: 4cm 1cm 4cm 1cm;\n",
      "    font-size: 300%;\n",
      "}\n",
      "\n",
      "h3.point {\n",
      "    font-size: 200%;\n",
      "    text-align: center;\n",
      "    margin: 2em 0em 2em 0em;\n",
      "    #26465D\n",
      "}\n",
      "\n",
      ".logo {\n",
      "    margin: 20px 0 20px 0;\n",
      "}\n",
      "\n",
      "a.anchor-link {\n",
      "    display: none;\n",
      "}\n",
      "\n",
      "h1.title { \n",
      "    font-size: 250%;\n",
      "}\n",
      "\n",
      "</style>\n",
      "\"\"\"\n",
      "display(HTML(s))"
     ],
     "language": "python",
     "metadata": {
      "slideshow": {
       "slide_type": "slide"
      }
     },
     "outputs": [
      {
       "html": [
        "\n",
        "\n",
        "<style>\n",
        "\n",
        ".rendered_html {\n",
        "    font-family: \"proxima-nova\", helvetica;\n",
        "    font-size: 150%;\n",
        "    line-height: 1.3;\n",
        "}\n",
        "\n",
        ".rendered_html h1 {\n",
        "    margin: 0.25em 0em 0.5em;\n",
        "    color: #015C9C;\n",
        "    text-align: center;\n",
        "    line-height: 1.2; \n",
        "    page-break-before: always;\n",
        "}\n",
        "\n",
        ".rendered_html h2 {\n",
        "    margin: 1.1em 0em 0.5em;\n",
        "    color: #26465D;\n",
        "    line-height: 1.2;\n",
        "}\n",
        "\n",
        ".rendered_html h3 {\n",
        "    margin: 1.1em 0em 0.5em;\n",
        "    color: #002845;\n",
        "    line-height: 1.2;\n",
        "}\n",
        "\n",
        ".rendered_html li {\n",
        "    line-height: 1.5; \n",
        "}\n",
        "\n",
        ".prompt {\n",
        "    font-size: 120%; \n",
        "}\n",
        "\n",
        ".CodeMirror-lines {\n",
        "    font-size: 120%; \n",
        "}\n",
        "\n",
        ".output_area {\n",
        "    font-size: 120%; \n",
        "}\n",
        "\n",
        "h1.bigtitle {\n",
        "    margin: 4cm 1cm 4cm 1cm;\n",
        "    font-size: 300%;\n",
        "}\n",
        "\n",
        "h3.point {\n",
        "    font-size: 200%;\n",
        "    text-align: center;\n",
        "    margin: 2em 0em 2em 0em;\n",
        "    #26465D\n",
        "}\n",
        "\n",
        ".logo {\n",
        "    margin: 20px 0 20px 0;\n",
        "}\n",
        "\n",
        "a.anchor-link {\n",
        "    display: none;\n",
        "}\n",
        "\n",
        "h1.title { \n",
        "    font-size: 250%;\n",
        "}\n",
        "\n",
        "</style>\n"
       ],
       "metadata": {},
       "output_type": "display_data",
       "text": [
        "<IPython.core.display.HTML at 0x10468cf90>"
       ]
      }
     ],
     "prompt_number": 3
    },
    {
     "cell_type": "code",
     "collapsed": false,
     "input": [],
     "language": "python",
     "metadata": {},
     "outputs": []
    }
   ],
   "metadata": {}
  }
 ]
}